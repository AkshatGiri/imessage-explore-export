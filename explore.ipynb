{
 "cells": [
  {
   "cell_type": "code",
   "execution_count": null,
   "metadata": {},
   "outputs": [],
   "source": [
    "import sqlite3\n",
    "import pandas as pd"
   ]
  },
  {
   "cell_type": "code",
   "execution_count": null,
   "metadata": {},
   "outputs": [],
   "source": [
    "# Copy paste the chat.db file from ~/Library/Messages/ to this directory\n",
    "db_path = \"./chat.db\"\n",
    "\n",
    "# OR you can use the direct path to chat.db, but you'll have to give full disk access to the terminal / vscode to access it.\n",
    "# System Preferences > Security & Privacy and giving Full Disk Access to Terminal / VSCode / etc.\n",
    "# db_path = '~/Library/Messages/chat.db' \n",
    "  \n",
    "# Create your connection.\n",
    "cnx = sqlite3.connect(db_path)"
   ]
  },
  {
   "cell_type": "code",
   "execution_count": null,
   "metadata": {},
   "outputs": [],
   "source": [
    "# Get all chats for a specific user\n",
    "chat_identifier = \"+14088139360\" # Typically the phone number including the country code (e.g. +1234567890) or could be the email linked to icloud\n",
    "df = pd.read_sql_query(f\"SELECT * FROM chat WHERE chat_identifier = '{chat_identifier}'\", cnx)\n",
    "df\n",
    "\n",
    "# NOTE - ROWID is the primary key for the chat table. It's referenced as the chat_id in other tables.\n",
    "# Note - It's possible for the same chat_identifier to have multiple chats associated with it. \n",
    "# This query will return all the chats for a specific chat_identifier.\n",
    "# We can then plugin the chat_id into the other tables to get the messages, attachments, etc.\n"
   ]
  },
  {
   "cell_type": "code",
   "execution_count": null,
   "metadata": {},
   "outputs": [],
   "source": [
    "chat_id = 28 # Get the chat_id from the previous query\n",
    "\n",
    "messages_df = pd.read_sql_query(f\"\"\"SELECT m.*\n",
    "FROM chat_message_join cmj\n",
    "JOIN message m ON cmj.message_id = m.ROWID\n",
    "WHERE cmj.chat_id = {chat_id}\n",
    "ORDER BY m.date ASC;\"\"\", cnx) # ORDER BY m.date DESC; to get the latest messages first\n",
    "\n",
    "# Show first 3 messages from the chat\n",
    "messages_df.head(10)"
   ]
  },
  {
   "cell_type": "code",
   "execution_count": null,
   "metadata": {},
   "outputs": [],
   "source": [
    "# We want to save the chat to a csv file with the following headers\n",
    "# author, date, text, attachment, reaction\n",
    "\n",
    "for index, row in messages_df.iterrows():\n",
    "    print(row['ROWID'], row['is_from_me'], row['cache_has_attachments'], row['date'], row['text'])"
   ]
  },
  {
   "cell_type": "code",
   "execution_count": null,
   "metadata": {},
   "outputs": [],
   "source": []
  }
 ],
 "metadata": {
  "kernelspec": {
   "display_name": "Python 3",
   "language": "python",
   "name": "python3"
  },
  "language_info": {
   "codemirror_mode": {
    "name": "ipython",
    "version": 3
   },
   "file_extension": ".py",
   "mimetype": "text/x-python",
   "name": "python",
   "nbconvert_exporter": "python",
   "pygments_lexer": "ipython3",
   "version": "3.11.5"
  }
 },
 "nbformat": 4,
 "nbformat_minor": 2
}
